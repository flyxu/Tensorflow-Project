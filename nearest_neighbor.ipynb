{
 "cells": [
  {
   "cell_type": "code",
   "execution_count": 3,
   "metadata": {},
   "outputs": [
    {
     "name": "stdout",
     "output_type": "stream",
     "text": [
      "Extracting MNIST_Data/data/train-images-idx3-ubyte.gz\n"
     ]
    },
    {
     "name": "stdout",
     "output_type": "stream",
     "text": [
      "Extracting MNIST_Data/data/train-labels-idx1-ubyte.gz\nExtracting MNIST_Data/data/t10k-images-idx3-ubyte.gz\nExtracting MNIST_Data/data/t10k-labels-idx1-ubyte.gz\n"
     ]
    }
   ],
   "source": [
    "import numpy as np\n",
    "import tensorflow as tf\n",
    "\n",
    "# Import MINST data\n",
    "from tensorflow.examples.tutorials.mnist import input_data\n",
    "mnist = input_data.read_data_sets(\"MNIST_Data/data/\", one_hot=True)"
   ]
  },
  {
   "cell_type": "code",
   "execution_count": null,
   "metadata": {},
   "outputs": [],
   "source": [
    "Xtr, Ytr = mnist.train.next_batch(5000) #5000 for training (nn candidates)\n",
    "Xte, Yte = mnist.test.next_batch(200) #200 for testing"
   ]
  },
  {
   "cell_type": "code",
   "execution_count": null,
   "metadata": {},
   "outputs": [],
   "source": [
    "# tf Graph Input\n",
    "xtr = tf.placeholder(\"float\", [None, 784])\n",
    "xte = tf.placeholder(\"float\", [784])"
   ]
  },
  {
   "cell_type": "code",
   "execution_count": 20,
   "metadata": {},
   "outputs": [],
   "source": [
    "# Nearest Neighbor calculation using L1 Distance\n",
    "# Calculate L1 Distance\n",
    "distance = tf.reduce_sum(tf.abs(tf.add(xtr, tf.neg(xte))), reduction_indices=1)\n",
    "# Prediction: Get min distance index (Nearest neighbor)\n",
    "pred = tf.argmin(distance, 0)\n",
    "\n",
    "accuracy = 0.\n",
    "\n",
    "# Initializing the variables\n",
    "init = tf.initialize_all_variables()"
   ]
  },
  {
   "cell_type": "code",
   "execution_count": 19,
   "metadata": {},
   "outputs": [
    {
     "name": "stdout",
     "output_type": "stream",
     "text": [
      "nn_indext: 4444\nYtr[nn_index]: [ 0.  0.  0.  0.  0.  0.  0.  1.  0.  0.]\nnp.argmax(Ytr[nn_index]): 7\nTest 0 Prediction: 7 True Class: 7\nnn_indext: 816\nYtr[nn_index]: [ 0.  0.  1.  0.  0.  0.  0.  0.  0.  0.]\nnp.argmax(Ytr[nn_index]): 2\nTest 1 Prediction: 2 True Class: 2\nnn_indext: 1380\nYtr[nn_index]: [ 0.  1.  0.  0.  0.  0.  0.  0.  0.  0.]\nnp.argmax(Ytr[nn_index]): 1\nTest 2 Prediction: 1 True Class: 1\nnn_indext: 1357\nYtr[nn_index]: [ 1.  0.  0.  0.  0.  0.  0.  0.  0.  0.]\nnp.argmax(Ytr[nn_index]): 0\nTest 3 Prediction: 0 True Class: 0\nnn_indext: 822\nYtr[nn_index]: [ 0.  0.  0.  0.  1.  0.  0.  0.  0.  0.]\nnp.argmax(Ytr[nn_index]): 4\nTest 4 Prediction: 4 True Class: 4\nnn_indext: 4815\nYtr[nn_index]: [ 0.  1.  0.  0.  0.  0.  0.  0.  0.  0.]\nnp.argmax(Ytr[nn_index]): 1\nTest 5 Prediction: 1 True Class: 1\nnn_indext: 2296\nYtr[nn_index]: [ 0.  0.  0.  0.  1.  0.  0.  0.  0.  0.]\nnp.argmax(Ytr[nn_index]): 4\nTest 6 Prediction: 4 True Class: 4\n"
     ]
    },
    {
     "name": "stdout",
     "output_type": "stream",
     "text": [
      "nn_indext: 208\nYtr[nn_index]: [ 0.  0.  0.  0.  0.  0.  0.  0.  0.  1.]\nnp.argmax(Ytr[nn_index]): 9\nTest 7 Prediction: 9 True Class: 9\nnn_indext: 4948\nYtr[nn_index]: [ 0.  0.  0.  0.  0.  0.  0.  0.  1.  0.]\nnp.argmax(Ytr[nn_index]): 8\nTest 8 Prediction: 8 True Class: 5\nnn_indext: 44\nYtr[nn_index]: [ 0.  0.  0.  0.  0.  0.  0.  0.  0.  1.]\nnp.argmax(Ytr[nn_index]): 9\nTest 9 Prediction: 9 True Class: 9\nnn_indext: 4035\nYtr[nn_index]: [ 1.  0.  0.  0.  0.  0.  0.  0.  0.  0.]\nnp.argmax(Ytr[nn_index]): 0\nTest 10 Prediction: 0 True Class: 0\nnn_indext: 3912\nYtr[nn_index]: [ 1.  0.  0.  0.  0.  0.  0.  0.  0.  0.]\nnp.argmax(Ytr[nn_index]): 0\nTest 11 Prediction: 0 True Class: 6\nnn_indext: 1964\nYtr[nn_index]: [ 0.  0.  0.  0.  0.  0.  0.  0.  0.  1.]\nnp.argmax(Ytr[nn_index]): 9\nTest 12 Prediction: 9 True Class: 9\nnn_indext: 1645\nYtr[nn_index]: [ 1.  0.  0.  0.  0.  0.  0.  0.  0.  0.]\nnp.argmax(Ytr[nn_index]): 0\nTest 13 Prediction: 0 True Class: 0\n"
     ]
    },
    {
     "name": "stdout",
     "output_type": "stream",
     "text": [
      "nn_indext: 1020\nYtr[nn_index]: [ 0.  1.  0.  0.  0.  0.  0.  0.  0.  0.]\nnp.argmax(Ytr[nn_index]): 1\nTest 14 Prediction: 1 True Class: 1\nnn_indext: 3744\nYtr[nn_index]: [ 0.  0.  0.  0.  0.  1.  0.  0.  0.  0.]\nnp.argmax(Ytr[nn_index]): 5\nTest 15 Prediction: 5 True Class: 5\nnn_indext: 822\nYtr[nn_index]: [ 0.  0.  0.  0.  1.  0.  0.  0.  0.  0.]\nnp.argmax(Ytr[nn_index]): 4\nTest 16 Prediction: 4 True Class: 9\nnn_indext: 3616\nYtr[nn_index]: [ 0.  0.  0.  0.  0.  0.  0.  1.  0.  0.]\nnp.argmax(Ytr[nn_index]): 7\nTest 17 Prediction: 7 True Class: 7\nnn_indext: 3338\nYtr[nn_index]: [ 0.  0.  0.  1.  0.  0.  0.  0.  0.  0.]\nnp.argmax(Ytr[nn_index]): 3\nTest 18 Prediction: 3 True Class: 3\nnn_indext: 1268\nYtr[nn_index]: [ 0.  0.  0.  0.  1.  0.  0.  0.  0.  0.]\nnp.argmax(Ytr[nn_index]): 4\nTest 19 Prediction: 4 True Class: 4\nnn_indext: 539\nYtr[nn_index]: [ 0.  0.  0.  0.  0.  0.  0.  0.  0.  1.]\nnp.argmax(Ytr[nn_index]): 9\nTest 20 Prediction: 9 True Class: 9\n"
     ]
    },
    {
     "name": "stdout",
     "output_type": "stream",
     "text": [
      "nn_indext: 4556\nYtr[nn_index]: [ 0.  0.  0.  0.  0.  0.  1.  0.  0.  0.]\nnp.argmax(Ytr[nn_index]): 6\nTest 21 Prediction: 6 True Class: 6\nnn_indext: 4892\nYtr[nn_index]: [ 0.  0.  0.  0.  0.  0.  1.  0.  0.  0.]\nnp.argmax(Ytr[nn_index]): 6\nTest 22 Prediction: 6 True Class: 6\nnn_indext: 2964\nYtr[nn_index]: [ 0.  0.  0.  0.  0.  1.  0.  0.  0.  0.]\nnp.argmax(Ytr[nn_index]): 5\nTest 23 Prediction: 5 True Class: 5\nnn_indext: 2124\nYtr[nn_index]: [ 0.  0.  0.  0.  1.  0.  0.  0.  0.  0.]\nnp.argmax(Ytr[nn_index]): 4\nTest 24 Prediction: 4 True Class: 4\nnn_indext: 2985\nYtr[nn_index]: [ 1.  0.  0.  0.  0.  0.  0.  0.  0.  0.]\nnp.argmax(Ytr[nn_index]): 0\nTest 25 Prediction: 0 True Class: 0\nnn_indext: 3990\nYtr[nn_index]: [ 0.  0.  0.  0.  0.  0.  0.  1.  0.  0.]\nnp.argmax(Ytr[nn_index]): 7\nTest 26 Prediction: 7 True Class: 7\nnn_indext: 46\nYtr[nn_index]: [ 0.  0.  0.  0.  1.  0.  0.  0.  0.  0.]\nnp.argmax(Ytr[nn_index]): 4\nTest 27 Prediction: 4 True Class: 4\nnn_indext: 2004\nYtr[nn_index]: [ 1.  0.  0.  0.  0.  0.  0.  0.  0.  0.]\nnp.argmax(Ytr[nn_index]): 0\nTest 28 Prediction: 0 True Class: 0\n"
     ]
    },
    {
     "name": "stdout",
     "output_type": "stream",
     "text": [
      "nn_indext: 2572\nYtr[nn_index]: [ 0.  1.  0.  0.  0.  0.  0.  0.  0.  0.]\nnp.argmax(Ytr[nn_index]): 1\nTest 29 Prediction: 1 True Class: 1\nnn_indext: 3230\nYtr[nn_index]: [ 0.  0.  0.  1.  0.  0.  0.  0.  0.  0.]\nnp.argmax(Ytr[nn_index]): 3\nTest 30 Prediction: 3 True Class: 3\nnn_indext: 2696\nYtr[nn_index]: [ 0.  1.  0.  0.  0.  0.  0.  0.  0.  0.]\nnp.argmax(Ytr[nn_index]): 1\nTest 31 Prediction: 1 True Class: 1\nnn_indext: 3882\nYtr[nn_index]: [ 0.  0.  0.  1.  0.  0.  0.  0.  0.  0.]\nnp.argmax(Ytr[nn_index]): 3\nTest 32 Prediction: 3 True Class: 3\nnn_indext: 3207\nYtr[nn_index]: [ 0.  0.  0.  0.  1.  0.  0.  0.  0.  0.]\nnp.argmax(Ytr[nn_index]): 4\nTest 33 Prediction: 4 True Class: 4\nnn_indext: 291\nYtr[nn_index]: [ 0.  0.  0.  0.  0.  0.  0.  1.  0.  0.]\nnp.argmax(Ytr[nn_index]): 7\nTest 34 Prediction: 7 True Class: 7\nnn_indext: 1605\nYtr[nn_index]: [ 0.  0.  1.  0.  0.  0.  0.  0.  0.  0.]\nnp.argmax(Ytr[nn_index]): 2\nTest 35 Prediction: 2 True Class: 2\nnn_indext: 100\nYtr[nn_index]: [ 0.  0.  0.  0.  0.  0.  0.  1.  0.  0.]\nnp.argmax(Ytr[nn_index]): 7\nTest 36 Prediction: 7 True Class: 7\n"
     ]
    },
    {
     "name": "stdout",
     "output_type": "stream",
     "text": [
      "nn_indext: 1586\nYtr[nn_index]: [ 0.  1.  0.  0.  0.  0.  0.  0.  0.  0.]\nnp.argmax(Ytr[nn_index]): 1\nTest 37 Prediction: 1 True Class: 1\nnn_indext: 2628\nYtr[nn_index]: [ 0.  0.  1.  0.  0.  0.  0.  0.  0.  0.]\nnp.argmax(Ytr[nn_index]): 2\nTest 38 Prediction: 2 True Class: 2\nnn_indext: 4069\nYtr[nn_index]: [ 0.  1.  0.  0.  0.  0.  0.  0.  0.  0.]\nnp.argmax(Ytr[nn_index]): 1\nTest 39 Prediction: 1 True Class: 1\nnn_indext: 2938\nYtr[nn_index]: [ 0.  1.  0.  0.  0.  0.  0.  0.  0.  0.]\nnp.argmax(Ytr[nn_index]): 1\nTest 40 Prediction: 1 True Class: 1\nnn_indext: 3143\nYtr[nn_index]: [ 0.  0.  0.  0.  0.  0.  0.  1.  0.  0.]\nnp.argmax(Ytr[nn_index]): 7\nTest 41 Prediction: 7 True Class: 7\nnn_indext: 2652\nYtr[nn_index]: [ 0.  0.  0.  0.  1.  0.  0.  0.  0.  0.]\nnp.argmax(Ytr[nn_index]): 4\nTest 42 Prediction: 4 True Class: 4\nnn_indext: 4298\nYtr[nn_index]: [ 0.  1.  0.  0.  0.  0.  0.  0.  0.  0.]\nnp.argmax(Ytr[nn_index]): 1\nTest 43 Prediction: 1 True Class: 2\nnn_indext: 1500\nYtr[nn_index]: [ 0.  0.  0.  1.  0.  0.  0.  0.  0.  0.]\nnp.argmax(Ytr[nn_index]): 3\nTest 44 Prediction: 3 True Class: 3\n"
     ]
    },
    {
     "name": "stdout",
     "output_type": "stream",
     "text": [
      "nn_indext: 4326\nYtr[nn_index]: [ 0.  0.  0.  0.  0.  1.  0.  0.  0.  0.]\nnp.argmax(Ytr[nn_index]): 5\nTest 45 Prediction: 5 True Class: 5\nnn_indext: 2234\nYtr[nn_index]: [ 0.  1.  0.  0.  0.  0.  0.  0.  0.  0.]\nnp.argmax(Ytr[nn_index]): 1\nTest 46 Prediction: 1 True Class: 1\nnn_indext: 1494\nYtr[nn_index]: [ 0.  0.  1.  0.  0.  0.  0.  0.  0.  0.]\nnp.argmax(Ytr[nn_index]): 2\nTest 47 Prediction: 2 True Class: 2\nnn_indext: 2526\nYtr[nn_index]: [ 0.  0.  0.  0.  1.  0.  0.  0.  0.  0.]\nnp.argmax(Ytr[nn_index]): 4\nTest 48 Prediction: 4 True Class: 4\nnn_indext: 366\nYtr[nn_index]: [ 0.  0.  0.  0.  1.  0.  0.  0.  0.  0.]\nnp.argmax(Ytr[nn_index]): 4\nTest 49 Prediction: 4 True Class: 4\nnn_indext: 3076\nYtr[nn_index]: [ 0.  0.  0.  0.  0.  0.  1.  0.  0.  0.]\nnp.argmax(Ytr[nn_index]): 6\nTest 50 Prediction: 6 True Class: 6\nnn_indext: 1906\nYtr[nn_index]: [ 0.  0.  0.  1.  0.  0.  0.  0.  0.  0.]\nnp.argmax(Ytr[nn_index]): 3\nTest 51 Prediction: 3 True Class: 3\n"
     ]
    },
    {
     "name": "stdout",
     "output_type": "stream",
     "text": [
      "nn_indext: 3900\nYtr[nn_index]: [ 0.  0.  0.  0.  0.  1.  0.  0.  0.  0.]\nnp.argmax(Ytr[nn_index]): 5\nTest 52 Prediction: 5 True Class: 5\nnn_indext: 712\nYtr[nn_index]: [ 0.  0.  0.  0.  0.  1.  0.  0.  0.  0.]\nnp.argmax(Ytr[nn_index]): 5\nTest 53 Prediction: 5 True Class: 5\nnn_indext: 2564\nYtr[nn_index]: [ 0.  0.  0.  0.  0.  0.  1.  0.  0.  0.]\nnp.argmax(Ytr[nn_index]): 6\nTest 54 Prediction: 6 True Class: 6\nnn_indext: 1292\nYtr[nn_index]: [ 1.  0.  0.  0.  0.  0.  0.  0.  0.  0.]\nnp.argmax(Ytr[nn_index]): 0\nTest 55 Prediction: 0 True Class: 0\nnn_indext: 2280\nYtr[nn_index]: [ 0.  0.  0.  0.  1.  0.  0.  0.  0.  0.]\nnp.argmax(Ytr[nn_index]): 4\nTest 56 Prediction: 4 True Class: 4\nnn_indext: 2469\nYtr[nn_index]: [ 0.  1.  0.  0.  0.  0.  0.  0.  0.  0.]\nnp.argmax(Ytr[nn_index]): 1\nTest 57 Prediction: 1 True Class: 1\nnn_indext: 3510\nYtr[nn_index]: [ 0.  0.  0.  0.  0.  0.  0.  0.  0.  1.]\nnp.argmax(Ytr[nn_index]): 9\nTest 58 Prediction: 9 True Class: 9\n"
     ]
    },
    {
     "name": "stdout",
     "output_type": "stream",
     "text": [
      "nn_indext: 1026\nYtr[nn_index]: [ 0.  0.  0.  0.  0.  1.  0.  0.  0.  0.]\nnp.argmax(Ytr[nn_index]): 5\nTest 59 Prediction: 5 True Class: 5\nnn_indext: 1866\nYtr[nn_index]: [ 0.  0.  0.  0.  0.  0.  0.  1.  0.  0.]\nnp.argmax(Ytr[nn_index]): 7\nTest 60 Prediction: 7 True Class: 7\nnn_indext: 3067\nYtr[nn_index]: [ 0.  0.  0.  0.  0.  0.  0.  0.  1.  0.]\nnp.argmax(Ytr[nn_index]): 8\nTest 61 Prediction: 8 True Class: 8\nnn_indext: 1382\nYtr[nn_index]: [ 0.  0.  0.  0.  0.  0.  0.  0.  0.  1.]\nnp.argmax(Ytr[nn_index]): 9\nTest 62 Prediction: 9 True Class: 9\nnn_indext: 396\nYtr[nn_index]: [ 0.  0.  0.  1.  0.  0.  0.  0.  0.  0.]\nnp.argmax(Ytr[nn_index]): 3\nTest 63 Prediction: 3 True Class: 3\nnn_indext: 579\nYtr[nn_index]: [ 0.  0.  0.  0.  0.  0.  0.  1.  0.  0.]\nnp.argmax(Ytr[nn_index]): 7\nTest 64 Prediction: 7 True Class: 7\nnn_indext: 880\nYtr[nn_index]: [ 0.  0.  0.  0.  1.  0.  0.  0.  0.  0.]\nnp.argmax(Ytr[nn_index]): 4\nTest 65 Prediction: 4 True Class: 4\nnn_indext: 1526\nYtr[nn_index]: [ 0.  0.  0.  0.  0.  0.  1.  0.  0.  0.]\nnp.argmax(Ytr[nn_index]): 6\nTest 66 Prediction: 6 True Class: 6\n"
     ]
    },
    {
     "name": "stdout",
     "output_type": "stream",
     "text": [
      "nn_indext: 4321\nYtr[nn_index]: [ 0.  0.  0.  0.  1.  0.  0.  0.  0.  0.]\nnp.argmax(Ytr[nn_index]): 4\nTest 67 Prediction: 4 True Class: 4\nnn_indext: 588\nYtr[nn_index]: [ 0.  0.  0.  1.  0.  0.  0.  0.  0.  0.]\nnp.argmax(Ytr[nn_index]): 3\nTest 68 Prediction: 3 True Class: 3\nnn_indext: 4456\nYtr[nn_index]: [ 1.  0.  0.  0.  0.  0.  0.  0.  0.  0.]\nnp.argmax(Ytr[nn_index]): 0\nTest 69 Prediction: 0 True Class: 0\nnn_indext: 3616\nYtr[nn_index]: [ 0.  0.  0.  0.  0.  0.  0.  1.  0.  0.]\nnp.argmax(Ytr[nn_index]): 7\nTest 70 Prediction: 7 True Class: 7\nnn_indext: 4196\nYtr[nn_index]: [ 1.  0.  0.  0.  0.  0.  0.  0.  0.  0.]\nnp.argmax(Ytr[nn_index]): 0\nTest 71 Prediction: 0 True Class: 0\nnn_indext: 1425\nYtr[nn_index]: [ 0.  0.  1.  0.  0.  0.  0.  0.  0.  0.]\nnp.argmax(Ytr[nn_index]): 2\nTest 72 Prediction: 2 True Class: 2\nnn_indext: 2697\nYtr[nn_index]: [ 0.  0.  0.  0.  0.  0.  0.  1.  0.  0.]\nnp.argmax(Ytr[nn_index]): 7\nTest 73 Prediction: 7 True Class: 9\nnn_indext: 4693\nYtr[nn_index]: [ 0.  1.  0.  0.  0.  0.  0.  0.  0.  0.]\nnp.argmax(Ytr[nn_index]): 1\nTest 74 Prediction: 1 True Class: 1\n"
     ]
    },
    {
     "name": "stdout",
     "output_type": "stream",
     "text": [
      "nn_indext: 4060\nYtr[nn_index]: [ 0.  0.  0.  0.  0.  0.  0.  1.  0.  0.]\nnp.argmax(Ytr[nn_index]): 7\nTest 75 Prediction: 7 True Class: 7\nnn_indext: 4786\nYtr[nn_index]: [ 0.  0.  0.  1.  0.  0.  0.  0.  0.  0.]\nnp.argmax(Ytr[nn_index]): 3\nTest 76 Prediction: 3 True Class: 3\nnn_indext: 2906\nYtr[nn_index]: [ 0.  0.  0.  0.  0.  0.  0.  1.  0.  0.]\nnp.argmax(Ytr[nn_index]): 7\nTest 77 Prediction: 7 True Class: 2\nnn_indext: 2936\nYtr[nn_index]: [ 0.  0.  0.  0.  0.  0.  0.  0.  0.  1.]\nnp.argmax(Ytr[nn_index]): 9\nTest 78 Prediction: 9 True Class: 9\nnn_indext: 1167\nYtr[nn_index]: [ 0.  0.  0.  0.  0.  0.  0.  1.  0.  0.]\nnp.argmax(Ytr[nn_index]): 7\nTest 79 Prediction: 7 True Class: 7\nnn_indext: 4603\nYtr[nn_index]: [ 0.  0.  0.  0.  0.  0.  0.  1.  0.  0.]\nnp.argmax(Ytr[nn_index]): 7\nTest 80 Prediction: 7 True Class: 7\nnn_indext: 3146\nYtr[nn_index]: [ 0.  0.  0.  0.  0.  0.  1.  0.  0.  0.]\nnp.argmax(Ytr[nn_index]): 6\nTest 81 Prediction: 6 True Class: 6\nnn_indext: 4780\nYtr[nn_index]: [ 0.  0.  1.  0.  0.  0.  0.  0.  0.  0.]\nnp.argmax(Ytr[nn_index]): 2\nTest 82 Prediction: 2 True Class: 2\n"
     ]
    },
    {
     "name": "stdout",
     "output_type": "stream",
     "text": [
      "nn_indext: 2605\nYtr[nn_index]: [ 0.  0.  0.  0.  0.  0.  0.  1.  0.  0.]\nnp.argmax(Ytr[nn_index]): 7\nTest 83 Prediction: 7 True Class: 7\nnn_indext: 4866\nYtr[nn_index]: [ 0.  0.  0.  0.  0.  0.  0.  0.  1.  0.]\nnp.argmax(Ytr[nn_index]): 8\nTest 84 Prediction: 8 True Class: 8\nnn_indext: 2903\nYtr[nn_index]: [ 0.  0.  0.  0.  1.  0.  0.  0.  0.  0.]\nnp.argmax(Ytr[nn_index]): 4\nTest 85 Prediction: 4 True Class: 4\nnn_indext: 441\nYtr[nn_index]: [ 0.  0.  0.  0.  0.  0.  0.  1.  0.  0.]\nnp.argmax(Ytr[nn_index]): 7\nTest 86 Prediction: 7 True Class: 7\nnn_indext: 2162\nYtr[nn_index]: [ 0.  0.  0.  1.  0.  0.  0.  0.  0.  0.]\nnp.argmax(Ytr[nn_index]): 3\nTest 87 Prediction: 3 True Class: 3\nnn_indext: 4486\nYtr[nn_index]: [ 0.  0.  0.  0.  0.  0.  1.  0.  0.  0.]\nnp.argmax(Ytr[nn_index]): 6\nTest 88 Prediction: 6 True Class: 6\nnn_indext: 2973\nYtr[nn_index]: [ 0.  1.  0.  0.  0.  0.  0.  0.  0.  0.]\nnp.argmax(Ytr[nn_index]): 1\nTest 89 Prediction: 1 True Class: 1\nnn_indext: 2625\nYtr[nn_index]: [ 0.  0.  0.  1.  0.  0.  0.  0.  0.  0.]\nnp.argmax(Ytr[nn_index]): 3\nTest 90 Prediction: 3 True Class: 3\n"
     ]
    },
    {
     "name": "stdout",
     "output_type": "stream",
     "text": [
      "nn_indext: 1482\nYtr[nn_index]: [ 0.  0.  0.  0.  0.  0.  1.  0.  0.  0.]\nnp.argmax(Ytr[nn_index]): 6\nTest 91 Prediction: 6 True Class: 6\nnn_indext: 2365\nYtr[nn_index]: [ 0.  0.  0.  0.  0.  0.  0.  0.  0.  1.]\nnp.argmax(Ytr[nn_index]): 9\nTest 92 Prediction: 9 True Class: 9\nnn_indext: 588\nYtr[nn_index]: [ 0.  0.  0.  1.  0.  0.  0.  0.  0.  0.]\nnp.argmax(Ytr[nn_index]): 3\nTest 93 Prediction: 3 True Class: 3\nnn_indext: 4487\nYtr[nn_index]: [ 0.  1.  0.  0.  0.  0.  0.  0.  0.  0.]\nnp.argmax(Ytr[nn_index]): 1\nTest 94 Prediction: 1 True Class: 1\nnn_indext: 4353\nYtr[nn_index]: [ 0.  0.  0.  0.  1.  0.  0.  0.  0.  0.]\nnp.argmax(Ytr[nn_index]): 4\nTest 95 Prediction: 4 True Class: 4\nnn_indext: 2532\nYtr[nn_index]: [ 0.  1.  0.  0.  0.  0.  0.  0.  0.  0.]\nnp.argmax(Ytr[nn_index]): 1\nTest 96 Prediction: 1 True Class: 1\nnn_indext: 3182\nYtr[nn_index]: [ 0.  0.  0.  0.  0.  0.  0.  1.  0.  0.]\nnp.argmax(Ytr[nn_index]): 7\nTest 97 Prediction: 7 True Class: 7\nnn_indext: 1236\nYtr[nn_index]: [ 0.  0.  0.  0.  0.  0.  1.  0.  0.  0.]\nnp.argmax(Ytr[nn_index]): 6\nTest 98 Prediction: 6 True Class: 6\n"
     ]
    },
    {
     "name": "stdout",
     "output_type": "stream",
     "text": [
      "nn_indext: 1376\nYtr[nn_index]: [ 0.  0.  0.  0.  0.  0.  0.  0.  0.  1.]\nnp.argmax(Ytr[nn_index]): 9\nTest 99 Prediction: 9 True Class: 9\nnn_indext: 3064\nYtr[nn_index]: [ 0.  0.  0.  0.  0.  0.  1.  0.  0.  0.]\nnp.argmax(Ytr[nn_index]): 6\nTest 100 Prediction: 6 True Class: 6\nnn_indext: 3304\nYtr[nn_index]: [ 1.  0.  0.  0.  0.  0.  0.  0.  0.  0.]\nnp.argmax(Ytr[nn_index]): 0\nTest 101 Prediction: 0 True Class: 0\nnn_indext: 2246\nYtr[nn_index]: [ 0.  0.  0.  0.  0.  1.  0.  0.  0.  0.]\nnp.argmax(Ytr[nn_index]): 5\nTest 102 Prediction: 5 True Class: 5\nnn_indext: 3240\nYtr[nn_index]: [ 0.  0.  0.  0.  1.  0.  0.  0.  0.  0.]\nnp.argmax(Ytr[nn_index]): 4\nTest 103 Prediction: 4 True Class: 4\nnn_indext: 282\nYtr[nn_index]: [ 0.  0.  0.  0.  0.  0.  0.  0.  0.  1.]\nnp.argmax(Ytr[nn_index]): 9\nTest 104 Prediction: 9 True Class: 9\nnn_indext: 4229\nYtr[nn_index]: [ 0.  0.  0.  0.  0.  0.  0.  0.  0.  1.]\nnp.argmax(Ytr[nn_index]): 9\nTest 105 Prediction: 9 True Class: 9\nnn_indext: 1899\nYtr[nn_index]: [ 0.  0.  1.  0.  0.  0.  0.  0.  0.  0.]\nnp.argmax(Ytr[nn_index]): 2\nTest 106 Prediction: 2 True Class: 2\n"
     ]
    },
    {
     "name": "stdout",
     "output_type": "stream",
     "text": [
      "nn_indext: 2668\nYtr[nn_index]: [ 0.  1.  0.  0.  0.  0.  0.  0.  0.  0.]\nnp.argmax(Ytr[nn_index]): 1\nTest 107 Prediction: 1 True Class: 1\nnn_indext: 4846\nYtr[nn_index]: [ 0.  0.  0.  0.  0.  0.  0.  0.  0.  1.]\nnp.argmax(Ytr[nn_index]): 9\nTest 108 Prediction: 9 True Class: 9\nnn_indext: 3832\nYtr[nn_index]: [ 0.  0.  0.  0.  1.  0.  0.  0.  0.  0.]\nnp.argmax(Ytr[nn_index]): 4\nTest 109 Prediction: 4 True Class: 4\nnn_indext: 140\nYtr[nn_index]: [ 0.  0.  0.  0.  0.  0.  0.  0.  1.  0.]\nnp.argmax(Ytr[nn_index]): 8\nTest 110 Prediction: 8 True Class: 8\nnn_indext: 564\nYtr[nn_index]: [ 0.  0.  0.  0.  0.  0.  0.  1.  0.  0.]\nnp.argmax(Ytr[nn_index]): 7\nTest 111 Prediction: 7 True Class: 7\nnn_indext: 1398\nYtr[nn_index]: [ 0.  0.  0.  1.  0.  0.  0.  0.  0.  0.]\nnp.argmax(Ytr[nn_index]): 3\nTest 112 Prediction: 3 True Class: 3\nnn_indext: 4225\nYtr[nn_index]: [ 0.  0.  0.  0.  0.  0.  0.  0.  0.  1.]\nnp.argmax(Ytr[nn_index]): 9\nTest 113 Prediction: 9 True Class: 9\nnn_indext: 3182\nYtr[nn_index]: [ 0.  0.  0.  0.  0.  0.  0.  1.  0.  0.]\nnp.argmax(Ytr[nn_index]): 7\nTest 114 Prediction: 7 True Class: 7\n"
     ]
    },
    {
     "name": "stdout",
     "output_type": "stream",
     "text": [
      "nn_indext: 3127\nYtr[nn_index]: [ 0.  0.  0.  0.  0.  0.  0.  0.  0.  1.]\nnp.argmax(Ytr[nn_index]): 9\nTest 115 Prediction: 9 True Class: 4\nnn_indext: 4114\nYtr[nn_index]: [ 0.  0.  0.  0.  0.  0.  0.  0.  0.  1.]\nnp.argmax(Ytr[nn_index]): 9\nTest 116 Prediction: 9 True Class: 4\nnn_indext: 64\nYtr[nn_index]: [ 0.  0.  0.  0.  1.  0.  0.  0.  0.  0.]\nnp.argmax(Ytr[nn_index]): 4\nTest 117 Prediction: 4 True Class: 4\nnn_indext: 2702\nYtr[nn_index]: [ 0.  0.  0.  0.  0.  0.  0.  0.  0.  1.]\nnp.argmax(Ytr[nn_index]): 9\nTest 118 Prediction: 9 True Class: 9\nnn_indext: 1140\nYtr[nn_index]: [ 0.  0.  0.  0.  0.  0.  0.  1.  0.  0.]\nnp.argmax(Ytr[nn_index]): 7\nTest 119 Prediction: 7 True Class: 2\nnn_indext: 60\nYtr[nn_index]: [ 0.  0.  0.  0.  0.  1.  0.  0.  0.  0.]\nnp.argmax(Ytr[nn_index]): 5\nTest 120 Prediction: 5 True Class: 5\nnn_indext: 3179\nYtr[nn_index]: [ 0.  0.  0.  0.  1.  0.  0.  0.  0.  0.]\nnp.argmax(Ytr[nn_index]): 4\nTest 121 Prediction: 4 True Class: 4\nnn_indext: 4888\nYtr[nn_index]: [ 0.  0.  0.  0.  0.  0.  0.  1.  0.  0.]\nnp.argmax(Ytr[nn_index]): 7\nTest 122 Prediction: 7 True Class: 7\n"
     ]
    },
    {
     "name": "stdout",
     "output_type": "stream",
     "text": [
      "nn_indext: 3868\nYtr[nn_index]: [ 0.  0.  0.  0.  0.  0.  1.  0.  0.  0.]\nnp.argmax(Ytr[nn_index]): 6\nTest 123 Prediction: 6 True Class: 6\nnn_indext: 4992\nYtr[nn_index]: [ 0.  0.  0.  0.  0.  0.  0.  1.  0.  0.]\nnp.argmax(Ytr[nn_index]): 7\nTest 124 Prediction: 7 True Class: 7\nnn_indext: 3902\nYtr[nn_index]: [ 0.  0.  0.  0.  0.  0.  0.  0.  0.  1.]\nnp.argmax(Ytr[nn_index]): 9\nTest 125 Prediction: 9 True Class: 9\nnn_indext: 1406\nYtr[nn_index]: [ 1.  0.  0.  0.  0.  0.  0.  0.  0.  0.]\nnp.argmax(Ytr[nn_index]): 0\nTest 126 Prediction: 0 True Class: 0\nnn_indext: 1712\nYtr[nn_index]: [ 0.  0.  0.  0.  0.  1.  0.  0.  0.  0.]\nnp.argmax(Ytr[nn_index]): 5\nTest 127 Prediction: 5 True Class: 5\nnn_indext: 1214\nYtr[nn_index]: [ 0.  0.  0.  0.  0.  0.  0.  0.  1.  0.]\nnp.argmax(Ytr[nn_index]): 8\nTest 128 Prediction: 8 True Class: 8\nnn_indext: 4259\nYtr[nn_index]: [ 0.  0.  0.  0.  0.  1.  0.  0.  0.  0.]\nnp.argmax(Ytr[nn_index]): 5\nTest 129 Prediction: 5 True Class: 5\nnn_indext: 3145\nYtr[nn_index]: [ 0.  0.  0.  0.  0.  0.  1.  0.  0.  0.]\nnp.argmax(Ytr[nn_index]): 6\nTest 130 Prediction: 6 True Class: 6\n"
     ]
    },
    {
     "name": "stdout",
     "output_type": "stream",
     "text": [
      "nn_indext: 121\nYtr[nn_index]: [ 0.  0.  0.  0.  0.  0.  1.  0.  0.  0.]\nnp.argmax(Ytr[nn_index]): 6\nTest 131 Prediction: 6 True Class: 6\nnn_indext: 3056\nYtr[nn_index]: [ 0.  0.  0.  0.  0.  1.  0.  0.  0.  0.]\nnp.argmax(Ytr[nn_index]): 5\nTest 132 Prediction: 5 True Class: 5\nnn_indext: 4274\nYtr[nn_index]: [ 0.  0.  0.  0.  0.  0.  0.  1.  0.  0.]\nnp.argmax(Ytr[nn_index]): 7\nTest 133 Prediction: 7 True Class: 7\nnn_indext: 1697\nYtr[nn_index]: [ 0.  0.  0.  0.  0.  0.  0.  0.  1.  0.]\nnp.argmax(Ytr[nn_index]): 8\nTest 134 Prediction: 8 True Class: 8\nnn_indext: 1436\nYtr[nn_index]: [ 0.  1.  0.  0.  0.  0.  0.  0.  0.  0.]\nnp.argmax(Ytr[nn_index]): 1\nTest 135 Prediction: 1 True Class: 1\nnn_indext: 2710\nYtr[nn_index]: [ 1.  0.  0.  0.  0.  0.  0.  0.  0.  0.]\nnp.argmax(Ytr[nn_index]): 0\nTest 136 Prediction: 0 True Class: 0\nnn_indext: 3053\nYtr[nn_index]: [ 0.  1.  0.  0.  0.  0.  0.  0.  0.  0.]\nnp.argmax(Ytr[nn_index]): 1\nTest 137 Prediction: 1 True Class: 1\nnn_indext: 4177\nYtr[nn_index]: [ 0.  0.  0.  0.  0.  0.  1.  0.  0.  0.]\nnp.argmax(Ytr[nn_index]): 6\nTest 138 Prediction: 6 True Class: 6\n"
     ]
    },
    {
     "name": "stdout",
     "output_type": "stream",
     "text": [
      "nn_indext: 3317\nYtr[nn_index]: [ 0.  0.  0.  0.  1.  0.  0.  0.  0.  0.]\nnp.argmax(Ytr[nn_index]): 4\nTest 139 Prediction: 4 True Class: 4\nnn_indext: 1954\nYtr[nn_index]: [ 0.  0.  0.  0.  0.  0.  1.  0.  0.  0.]\nnp.argmax(Ytr[nn_index]): 6\nTest 140 Prediction: 6 True Class: 6\nnn_indext: 4086\nYtr[nn_index]: [ 0.  0.  0.  0.  0.  0.  0.  1.  0.  0.]\nnp.argmax(Ytr[nn_index]): 7\nTest 141 Prediction: 7 True Class: 7\nnn_indext: 3922\nYtr[nn_index]: [ 0.  0.  1.  0.  0.  0.  0.  0.  0.  0.]\nnp.argmax(Ytr[nn_index]): 2\nTest 142 Prediction: 2 True Class: 3\nnn_indext: 4039\nYtr[nn_index]: [ 0.  1.  0.  0.  0.  0.  0.  0.  0.  0.]\nnp.argmax(Ytr[nn_index]): 1\nTest 143 Prediction: 1 True Class: 1\nnn_indext: 4382\nYtr[nn_index]: [ 0.  0.  0.  0.  0.  0.  0.  1.  0.  0.]\nnp.argmax(Ytr[nn_index]): 7\nTest 144 Prediction: 7 True Class: 7\nnn_indext: 966\nYtr[nn_index]: [ 0.  1.  0.  0.  0.  0.  0.  0.  0.  0.]\nnp.argmax(Ytr[nn_index]): 1\nTest 145 Prediction: 1 True Class: 1\nnn_indext: 220\nYtr[nn_index]: [ 0.  0.  0.  0.  0.  0.  0.  0.  1.  0.]\nnp.argmax(Ytr[nn_index]): 8\nTest 146 Prediction: 8 True Class: 8\n"
     ]
    },
    {
     "name": "stdout",
     "output_type": "stream",
     "text": [
      "nn_indext: 1547\nYtr[nn_index]: [ 0.  0.  1.  0.  0.  0.  0.  0.  0.  0.]\nnp.argmax(Ytr[nn_index]): 2\nTest 147 Prediction: 2 True Class: 2\nnn_indext: 1292\nYtr[nn_index]: [ 1.  0.  0.  0.  0.  0.  0.  0.  0.  0.]\nnp.argmax(Ytr[nn_index]): 0\nTest 148 Prediction: 0 True Class: 0\nnn_indext: 2363\nYtr[nn_index]: [ 0.  1.  0.  0.  0.  0.  0.  0.  0.  0.]\nnp.argmax(Ytr[nn_index]): 1\nTest 149 Prediction: 1 True Class: 2\nnn_indext: 4896\nYtr[nn_index]: [ 0.  0.  0.  0.  0.  0.  0.  0.  0.  1.]\nnp.argmax(Ytr[nn_index]): 9\nTest 150 Prediction: 9 True Class: 9\nnn_indext: 1156\nYtr[nn_index]: [ 0.  0.  0.  0.  0.  0.  0.  0.  0.  1.]\nnp.argmax(Ytr[nn_index]): 9\nTest 151 Prediction: 9 True Class: 9\nnn_indext: 3900\nYtr[nn_index]: [ 0.  0.  0.  0.  0.  1.  0.  0.  0.  0.]\nnp.argmax(Ytr[nn_index]): 5\nTest 152 Prediction: 5 True Class: 5\nnn_indext: 1300\nYtr[nn_index]: [ 0.  0.  0.  0.  0.  1.  0.  0.  0.  0.]\nnp.argmax(Ytr[nn_index]): 5\nTest 153 Prediction: 5 True Class: 5\nnn_indext: 1678\nYtr[nn_index]: [ 0.  1.  0.  0.  0.  0.  0.  0.  0.  0.]\nnp.argmax(Ytr[nn_index]): 1\nTest 154 Prediction: 1 True Class: 1\n"
     ]
    },
    {
     "name": "stdout",
     "output_type": "stream",
     "text": [
      "nn_indext: 1513\nYtr[nn_index]: [ 0.  0.  0.  0.  0.  1.  0.  0.  0.  0.]\nnp.argmax(Ytr[nn_index]): 5\nTest 155 Prediction: 5 True Class: 5\nnn_indext: 832\nYtr[nn_index]: [ 0.  0.  0.  0.  0.  0.  1.  0.  0.  0.]\nnp.argmax(Ytr[nn_index]): 6\nTest 156 Prediction: 6 True Class: 6\nnn_indext: 2664\nYtr[nn_index]: [ 1.  0.  0.  0.  0.  0.  0.  0.  0.  0.]\nnp.argmax(Ytr[nn_index]): 0\nTest 157 Prediction: 0 True Class: 0\nnn_indext: 1750\nYtr[nn_index]: [ 0.  0.  0.  1.  0.  0.  0.  0.  0.  0.]\nnp.argmax(Ytr[nn_index]): 3\nTest 158 Prediction: 3 True Class: 3\nnn_indext: 1260\nYtr[nn_index]: [ 0.  0.  0.  0.  1.  0.  0.  0.  0.  0.]\nnp.argmax(Ytr[nn_index]): 4\nTest 159 Prediction: 4 True Class: 4\nnn_indext: 3438\nYtr[nn_index]: [ 0.  0.  0.  0.  1.  0.  0.  0.  0.  0.]\nnp.argmax(Ytr[nn_index]): 4\nTest 160 Prediction: 4 True Class: 4\nnn_indext: 1338\nYtr[nn_index]: [ 0.  0.  0.  0.  0.  0.  1.  0.  0.  0.]\nnp.argmax(Ytr[nn_index]): 6\nTest 161 Prediction: 6 True Class: 6\nnn_indext: 453\nYtr[nn_index]: [ 0.  0.  0.  0.  0.  1.  0.  0.  0.  0.]\nnp.argmax(Ytr[nn_index]): 5\nTest 162 Prediction: 5 True Class: 5\n"
     ]
    },
    {
     "name": "stdout",
     "output_type": "stream",
     "text": [
      "nn_indext: 1552\nYtr[nn_index]: [ 0.  0.  0.  0.  1.  0.  0.  0.  0.  0.]\nnp.argmax(Ytr[nn_index]): 4\nTest 163 Prediction: 4 True Class: 4\nnn_indext: 4760\nYtr[nn_index]: [ 0.  0.  0.  0.  0.  0.  1.  0.  0.  0.]\nnp.argmax(Ytr[nn_index]): 6\nTest 164 Prediction: 6 True Class: 6\nnn_indext: 4858\nYtr[nn_index]: [ 0.  0.  0.  0.  0.  1.  0.  0.  0.  0.]\nnp.argmax(Ytr[nn_index]): 5\nTest 165 Prediction: 5 True Class: 5\nnn_indext: 2826\nYtr[nn_index]: [ 0.  0.  0.  0.  1.  0.  0.  0.  0.  0.]\nnp.argmax(Ytr[nn_index]): 4\nTest 166 Prediction: 4 True Class: 4\nnn_indext: 1451\nYtr[nn_index]: [ 0.  0.  0.  0.  0.  1.  0.  0.  0.  0.]\nnp.argmax(Ytr[nn_index]): 5\nTest 167 Prediction: 5 True Class: 5\nnn_indext: 2658\nYtr[nn_index]: [ 0.  1.  0.  0.  0.  0.  0.  0.  0.  0.]\nnp.argmax(Ytr[nn_index]): 1\nTest 168 Prediction: 1 True Class: 1\nnn_indext: 2417\nYtr[nn_index]: [ 0.  0.  0.  0.  1.  0.  0.  0.  0.  0.]\nnp.argmax(Ytr[nn_index]): 4\nTest 169 Prediction: 4 True Class: 4\nnn_indext: 4950\nYtr[nn_index]: [ 0.  0.  0.  0.  0.  0.  0.  0.  0.  1.]\nnp.argmax(Ytr[nn_index]): 9\nTest 170 Prediction: 9 True Class: 4\n"
     ]
    },
    {
     "name": "stdout",
     "output_type": "stream",
     "text": [
      "nn_indext: 4788\nYtr[nn_index]: [ 0.  0.  0.  0.  0.  0.  0.  1.  0.  0.]\nnp.argmax(Ytr[nn_index]): 7\nTest 171 Prediction: 7 True Class: 7\nnn_indext: 2554\nYtr[nn_index]: [ 0.  0.  1.  0.  0.  0.  0.  0.  0.  0.]\nnp.argmax(Ytr[nn_index]): 2\nTest 172 Prediction: 2 True Class: 2\nnn_indext: 2698\nYtr[nn_index]: [ 0.  0.  0.  1.  0.  0.  0.  0.  0.  0.]\nnp.argmax(Ytr[nn_index]): 3\nTest 173 Prediction: 3 True Class: 3\nnn_indext: 2370\nYtr[nn_index]: [ 0.  0.  1.  0.  0.  0.  0.  0.  0.  0.]\nnp.argmax(Ytr[nn_index]): 2\nTest 174 Prediction: 2 True Class: 2\nnn_indext: 3402\nYtr[nn_index]: [ 0.  1.  0.  0.  0.  0.  0.  0.  0.  0.]\nnp.argmax(Ytr[nn_index]): 1\nTest 175 Prediction: 1 True Class: 7\nnn_indext: 2938\nYtr[nn_index]: [ 0.  1.  0.  0.  0.  0.  0.  0.  0.  0.]\nnp.argmax(Ytr[nn_index]): 1\nTest 176 Prediction: 1 True Class: 1\nnn_indext: 1006\nYtr[nn_index]: [ 0.  0.  0.  0.  0.  0.  0.  0.  1.  0.]\nnp.argmax(Ytr[nn_index]): 8\nTest 177 Prediction: 8 True Class: 8\nnn_indext: 1488\nYtr[nn_index]: [ 0.  1.  0.  0.  0.  0.  0.  0.  0.  0.]\nnp.argmax(Ytr[nn_index]): 1\nTest 178 Prediction: 1 True Class: 1\n"
     ]
    },
    {
     "name": "stdout",
     "output_type": "stream",
     "text": [
      "nn_indext: 4076\nYtr[nn_index]: [ 0.  0.  0.  0.  0.  0.  0.  0.  1.  0.]\nnp.argmax(Ytr[nn_index]): 8\nTest 179 Prediction: 8 True Class: 8\nnn_indext: 484\nYtr[nn_index]: [ 0.  1.  0.  0.  0.  0.  0.  0.  0.  0.]\nnp.argmax(Ytr[nn_index]): 1\nTest 180 Prediction: 1 True Class: 1\nnn_indext: 534\nYtr[nn_index]: [ 0.  0.  0.  0.  0.  0.  0.  0.  1.  0.]\nnp.argmax(Ytr[nn_index]): 8\nTest 181 Prediction: 8 True Class: 8\nnn_indext: 1188\nYtr[nn_index]: [ 0.  0.  0.  0.  0.  1.  0.  0.  0.  0.]\nnp.argmax(Ytr[nn_index]): 5\nTest 182 Prediction: 5 True Class: 5\nnn_indext: 1700\nYtr[nn_index]: [ 1.  0.  0.  0.  0.  0.  0.  0.  0.  0.]\nnp.argmax(Ytr[nn_index]): 0\nTest 183 Prediction: 0 True Class: 0\nnn_indext: 4962\nYtr[nn_index]: [ 0.  0.  1.  0.  0.  0.  0.  0.  0.  0.]\nnp.argmax(Ytr[nn_index]): 2\nTest 184 Prediction: 2 True Class: 8\nnn_indext: 1751\nYtr[nn_index]: [ 0.  0.  0.  0.  0.  0.  0.  0.  0.  1.]\nnp.argmax(Ytr[nn_index]): 9\nTest 185 Prediction: 9 True Class: 9\nnn_indext: 4398\nYtr[nn_index]: [ 0.  0.  1.  0.  0.  0.  0.  0.  0.  0.]\nnp.argmax(Ytr[nn_index]): 2\nTest 186 Prediction: 2 True Class: 2\n"
     ]
    },
    {
     "name": "stdout",
     "output_type": "stream",
     "text": [
      "nn_indext: 4514\nYtr[nn_index]: [ 0.  0.  0.  0.  0.  1.  0.  0.  0.  0.]\nnp.argmax(Ytr[nn_index]): 5\nTest 187 Prediction: 5 True Class: 5\nnn_indext: 4459\nYtr[nn_index]: [ 1.  0.  0.  0.  0.  0.  0.  0.  0.  0.]\nnp.argmax(Ytr[nn_index]): 0\nTest 188 Prediction: 0 True Class: 0\nnn_indext: 2876\nYtr[nn_index]: [ 0.  1.  0.  0.  0.  0.  0.  0.  0.  0.]\nnp.argmax(Ytr[nn_index]): 1\nTest 189 Prediction: 1 True Class: 1\nnn_indext: 1365\nYtr[nn_index]: [ 0.  1.  0.  0.  0.  0.  0.  0.  0.  0.]\nnp.argmax(Ytr[nn_index]): 1\nTest 190 Prediction: 1 True Class: 1\nnn_indext: 2876\nYtr[nn_index]: [ 0.  1.  0.  0.  0.  0.  0.  0.  0.  0.]\nnp.argmax(Ytr[nn_index]): 1\nTest 191 Prediction: 1 True Class: 1\nnn_indext: 4963\nYtr[nn_index]: [ 1.  0.  0.  0.  0.  0.  0.  0.  0.  0.]\nnp.argmax(Ytr[nn_index]): 0\nTest 192 Prediction: 0 True Class: 0\nnn_indext: 3996\nYtr[nn_index]: [ 0.  0.  0.  0.  1.  0.  0.  0.  0.  0.]\nnp.argmax(Ytr[nn_index]): 4\nTest 193 Prediction: 4 True Class: 9\nnn_indext: 2004\nYtr[nn_index]: [ 1.  0.  0.  0.  0.  0.  0.  0.  0.  0.]\nnp.argmax(Ytr[nn_index]): 0\nTest 194 Prediction: 0 True Class: 0\n"
     ]
    },
    {
     "name": "stdout",
     "output_type": "stream",
     "text": [
      "nn_indext: 966\nYtr[nn_index]: [ 0.  1.  0.  0.  0.  0.  0.  0.  0.  0.]\nnp.argmax(Ytr[nn_index]): 1\nTest 195 Prediction: 1 True Class: 3\nnn_indext: 3160\nYtr[nn_index]: [ 0.  1.  0.  0.  0.  0.  0.  0.  0.  0.]\nnp.argmax(Ytr[nn_index]): 1\nTest 196 Prediction: 1 True Class: 1\nnn_indext: 3829\nYtr[nn_index]: [ 0.  0.  0.  0.  0.  0.  1.  0.  0.  0.]\nnp.argmax(Ytr[nn_index]): 6\nTest 197 Prediction: 6 True Class: 6\nnn_indext: 4746\nYtr[nn_index]: [ 0.  0.  0.  0.  1.  0.  0.  0.  0.  0.]\nnp.argmax(Ytr[nn_index]): 4\nTest 198 Prediction: 4 True Class: 4\nnn_indext: 2960\nYtr[nn_index]: [ 0.  0.  1.  0.  0.  0.  0.  0.  0.  0.]\nnp.argmax(Ytr[nn_index]): 2\nTest 199 Prediction: 2 True Class: 2\nDone!\nAccuracy: 0.92\n"
     ]
    }
   ],
   "source": [
    "# Launch the graph\n",
    "with tf.Session() as sess:\n",
    "    sess.run(init)\n",
    "\n",
    "    # loop over test data\n",
    "    for i in range(len(Xte)):\n",
    "        # Get nearest neighbor\n",
    "        nn_index = sess.run(pred, feed_dict={xtr: Xtr, xte: Xte[i, :]})\n",
    "        print \"nn_indext:\",nn_index\n",
    "        print \"Ytr[nn_index]:\",Ytr[nn_index]\n",
    "        print \"np.argmax(Ytr[nn_index]):\",np.argmax(Ytr[nn_index])\n",
    "        # Get nearest neighbor class label and compare it to its true label\n",
    "        print \"Test\", i, \"Prediction:\", np.argmax(Ytr[nn_index]), \\\n",
    "            \"True Class:\", np.argmax(Yte[i])\n",
    "        # Calculate accuracy\n",
    "        if np.argmax(Ytr[nn_index]) == np.argmax(Yte[i]):\n",
    "            accuracy += 1./len(Xte)\n",
    "    print \"Done!\"\n",
    "    print \"Accuracy:\", accuracy"
   ]
  },
  {
   "cell_type": "code",
   "execution_count": null,
   "metadata": {},
   "outputs": [],
   "source": [
    "with tf.Session() as sess:\n",
    "    sess.run(init)"
   ]
  },
  {
   "cell_type": "code",
   "execution_count": null,
   "metadata": {},
   "outputs": [],
   "source": [
    ""
   ]
  }
 ],
 "metadata": {
  "kernelspec": {
   "display_name": "Python 2",
   "language": "python",
   "name": "python2"
  },
  "language_info": {
   "codemirror_mode": {
    "name": "ipython",
    "version": 2.0
   },
   "file_extension": ".py",
   "mimetype": "text/x-python",
   "name": "python",
   "nbconvert_exporter": "python",
   "pygments_lexer": "ipython2",
   "version": "2.7.6"
  }
 },
 "nbformat": 4,
 "nbformat_minor": 0
}